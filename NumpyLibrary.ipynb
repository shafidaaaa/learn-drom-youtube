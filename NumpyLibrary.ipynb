{
  "nbformat": 4,
  "nbformat_minor": 0,
  "metadata": {
    "colab": {
      "provenance": []
    },
    "kernelspec": {
      "name": "python3",
      "display_name": "Python 3"
    },
    "language_info": {
      "name": "python"
    }
  },
  "cells": [
    {
      "cell_type": "code",
      "execution_count": null,
      "metadata": {
        "id": "9YKAdUXC4PQ6"
      },
      "outputs": [],
      "source": [
        "import numpy as np\n",
        "import matplotlib.pyplot as plt\n",
        "from numpy import random"
      ]
    },
    {
      "cell_type": "code",
      "source": [
        "list_1 = [1,2,3,4,5]\n",
        "np_arr_1 = np.array(list_1,dtype=np.int8)\n",
        "np_arr_1\n",
        "\n",
        "m_list_1 = [[1,2,3],[4,5,6],[7,8,9]]\n",
        "np_m_arr_1 = np.array(m_list_1)\n",
        "\n",
        "np.arange(1,10,2)\n",
        "np.linspace(0,5,5)\n",
        "np.zeros(4)\n",
        "np.ones((2,3))\n",
        "np_m_arr_1.size\n",
        "np_arr_2 = np.array([1,2,3,4,5,6])\n",
        "np_arr_2.dtype\n",
        "\n",
        "np.random.randint(10,50,size=(2,3))\n",
        "\n",
        "\n"
      ],
      "metadata": {
        "colab": {
          "base_uri": "https://localhost:8080/"
        },
        "id": "E0cW61uD4amo",
        "outputId": "9090e0d7-54db-4b9b-8697-59aca8fc6ace"
      },
      "execution_count": null,
      "outputs": [
        {
          "output_type": "execute_result",
          "data": {
            "text/plain": [
              "array([[34, 47, 46],\n",
              "       [40, 14, 42]])"
            ]
          },
          "metadata": {},
          "execution_count": 2
        }
      ]
    },
    {
      "cell_type": "markdown",
      "source": [
        "# **TIPE DATA**"
      ],
      "metadata": {
        "id": "OuWDqM_LgBxi"
      }
    },
    {
      "cell_type": "code",
      "source": [
        "#tipe data\n",
        "# Boolean\n",
        "bool_array = np.array([True, False, True, False], dtype=np.bool_)\n",
        "print(\"Boolean array:\", bool_array)\n",
        "\n",
        "# Char\n",
        "char_array = np.array([-128, 0, 127], dtype=np.byte)\n",
        "print(\"Char array:\", char_array)\n",
        "\n",
        "# Short\n",
        "short_array = np.array([-32768, 0, 32767], dtype=np.short)\n",
        "print(\"Short array:\", short_array)\n",
        "\n",
        "# Integer\n",
        "int_array = np.array([-2147483648, 0, 2147483647], dtype=np.int_)\n",
        "print(\"Integer array:\", int_array)\n",
        "\n",
        "# Long\n",
        "long_array = np.array([-9223372036854775808, 0, 9223372036854775807], dtype=np.int64)\n",
        "print(\"Long array:\", long_array)\n",
        "\n",
        "# Float\n",
        "float_array = np.array([-1.7976931348623157e+308, 0.0, 1.7976931348623157e+308], dtype=np.float_)\n",
        "print(\"Float array:\", float_array)\n",
        "\n",
        "# Double\n",
        "double_array = np.array([-1.7976931348623157e+308, 0.0, 1.7976931348623157e+308], dtype=np.float64)\n",
        "print(\"Double array:\", double_array)\n",
        "\n",
        "# Complex\n",
        "complex_array = np.array([1 + 2j, 2 + 3j, 3 + 4j], dtype=np.complex_)\n",
        "print(\"Complex array:\", complex_array)\n",
        "\n",
        "# Half\n",
        "half_array = np.array([-65504, 0, 65504], dtype=np.float16)\n",
        "print(\"Half array:\", half_array)"
      ],
      "metadata": {
        "id": "Ue0Hf6SJ4a8U",
        "colab": {
          "base_uri": "https://localhost:8080/"
        },
        "outputId": "faf92075-6923-4992-f47f-1c43b4c49878"
      },
      "execution_count": null,
      "outputs": [
        {
          "output_type": "stream",
          "name": "stdout",
          "text": [
            "Boolean array: [ True False  True False]\n",
            "Char array: [-128    0  127]\n",
            "Short array: [-32768      0  32767]\n",
            "Integer array: [-2147483648           0  2147483647]\n",
            "Long array: [-9223372036854775808                    0  9223372036854775807]\n",
            "Float array: [-1.79769313e+308  0.00000000e+000  1.79769313e+308]\n",
            "Double array: [-1.79769313e+308  0.00000000e+000  1.79769313e+308]\n",
            "Complex array: [1.+2.j 2.+3.j 3.+4.j]\n",
            "Half array: [-65504.      0.  65504.]\n"
          ]
        }
      ]
    },
    {
      "cell_type": "code",
      "source": [
        "np_m_arr_1[0,0]=2\n",
        "np_m_arr_1.itemset((0,1),1)\n",
        "print(\"np_m_arr_1\\n\",np_m_arr_1)\n",
        "np_m_arr_1.shape\n",
        "np_m_arr_1.item(1,2)\n",
        "\n",
        "np.take(np_m_arr_1,[0,3,6])\n",
        "np.put(np_m_arr_1,[0,3,6],[10,10,10])\n",
        "print(np_m_arr_1)\n",
        "\n",
        "np_m_arr_1[:5:2]\n",
        "np_m_arr_1[:,1]\n",
        "np_m_arr_1[::-1]\n",
        "\n",
        "evens = np_m_arr_1[np_m_arr_1%2==0]\n",
        "evens\n",
        "np_m_arr_1[np_m_arr_1>5]\n",
        "np_m_arr_1[(np_m_arr_1>5)|(np_m_arr_1<9)]\n",
        "\n",
        "np.unique(np_m_arr_1)"
      ],
      "metadata": {
        "colab": {
          "base_uri": "https://localhost:8080/"
        },
        "id": "wSi8qKvrf9Nm",
        "outputId": "2211461e-8ecd-4b7b-ff67-afc6e054007a"
      },
      "execution_count": null,
      "outputs": [
        {
          "output_type": "stream",
          "name": "stdout",
          "text": [
            "np_m_arr_1\n",
            " [[2 1 3]\n",
            " [4 5 6]\n",
            " [7 8 9]]\n",
            "[[10  1  3]\n",
            " [10  5  6]\n",
            " [10  8  9]]\n"
          ]
        },
        {
          "output_type": "execute_result",
          "data": {
            "text/plain": [
              "array([ 1,  3,  5,  6,  8,  9, 10])"
            ]
          },
          "metadata": {},
          "execution_count": 4
        }
      ]
    },
    {
      "cell_type": "code",
      "source": [
        "np_m_arr_1.reshape((1,9))\n",
        "np_m_arr_1.transpose()\n",
        "np_m_arr_1.swapaxes(0,1)\n",
        "np_m_arr_1.flatten('F')\n",
        "np_m_arr_1.sort(axis=1)\n",
        "np_m_arr_1"
      ],
      "metadata": {
        "colab": {
          "base_uri": "https://localhost:8080/"
        },
        "id": "vote9NHeg0o2",
        "outputId": "0c2e6731-24da-4553-cccc-65bf646ada4a"
      },
      "execution_count": null,
      "outputs": [
        {
          "output_type": "execute_result",
          "data": {
            "text/plain": [
              "array([[ 1,  3, 10],\n",
              "       [ 5,  6, 10],\n",
              "       [ 8,  9, 10]])"
            ]
          },
          "metadata": {},
          "execution_count": 11
        }
      ]
    },
    {
      "cell_type": "code",
      "source": [
        "ss_arr_1 = np.random.randint(10,size=(2,2))\n",
        "\n",
        "ss_arr_2 = np.random.randint(10,size=(2,2))\n",
        "print(ss_arr_1,\"\\n\",ss_arr_2)\n",
        "\n",
        "np.vstack((ss_arr_1,ss_arr_2))\n",
        "np.hstack((ss_arr_1,ss_arr_2))\n",
        "\n",
        "ss_arr_3 = np.delete(ss_arr_1,1,0)\n",
        "ss_arr_4 = np.delete(ss_arr_2,1,0)\n",
        "np.row_stack((ss_arr_3,ss_arr_4))\n",
        "# np.column_stack((ss_arr_3,ss_arr_4))\n",
        "# print(ss_arr_3,\"\\n\",ss_arr_4)\n",
        "ss_arr_5=np.random.randint(10,size=(2,10))\n",
        "# np.split(ss_arr_5)\n",
        "print(ss_arr_5)\n",
        "print('sum\\n',ss_arr_5.sum())\n",
        "print(ss_arr_5.sum(axis=1))\n",
        "print(ss_arr_5.cumsum()) #sum of row\n",
        "print(ss_arr_5.cumsum(axis=1))\n",
        "print(ss_arr_5.min(axis=1))\n",
        "print(ss_arr_5.max(axis=1))"
      ],
      "metadata": {
        "colab": {
          "base_uri": "https://localhost:8080/"
        },
        "id": "_dUX8BfelMub",
        "outputId": "601580cc-8fad-49de-f734-6f6801463dbb"
      },
      "execution_count": null,
      "outputs": [
        {
          "output_type": "stream",
          "name": "stdout",
          "text": [
            "[[8 7]\n",
            " [2 7]] \n",
            " [[4 3]\n",
            " [7 4]]\n",
            "[[5 4 4 2 5 9 5 6 2 7]\n",
            " [9 0 8 1 8 7 5 5 7 2]]\n",
            "sum\n",
            " 101\n",
            "[49 52]\n",
            "[  5   9  13  15  20  29  34  40  42  49  58  58  66  67  75  82  87  92\n",
            "  99 101]\n",
            "[[ 5  9 13 15 20 29 34 40 42 49]\n",
            " [ 9  9 17 18 26 33 38 43 50 52]]\n",
            "[2 0]\n",
            "[9 9]\n"
          ]
        }
      ]
    },
    {
      "cell_type": "code",
      "source": [
        "dd_arr_1=random.randint(100, size=(4))\n",
        "dd_arr_2=random.randint(100, size=(4))\n",
        "\n",
        "print(dd_arr_1)\n",
        "\n",
        "np.add(dd_arr_1,2)\n",
        "print(\"=======\")\n",
        "print(dd_arr_1)\n",
        "print(dd_arr_2)\n",
        "print(\"----------- +\")\n",
        "print(np.add(dd_arr_1,dd_arr_2))\n",
        "print(\"----------- -\")\n",
        "print(np.subtract(dd_arr_1,dd_arr_2))\n",
        "#also can do multipy and divide and power and exponential(exp) and log(log2,log10) and squarerooot(sqrt) and cbrt and absolute!\n",
        "\n",
        "np.remainder(dd_arr_1,dd_arr_2)\n",
        "\n",
        "np.log10([1000,10000])\n",
        "np.log2([27,81])\n",
        "np.exp([10,200])\n",
        "# greatest common divisor(gcd)\n",
        "# largest common m(lcm)\n",
        "\n",
        "np.gcd.reduce([24,18,81])\n",
        "np.lcm.reduce([24,18,81])\n",
        "\n",
        "np.floor([1.2242,2.345]) #rounddown\n",
        "np.ceil([1.2242,2.345]) #roundup"
      ],
      "metadata": {
        "colab": {
          "base_uri": "https://localhost:8080/"
        },
        "id": "NwRueeODriCd",
        "outputId": "1307dacb-0443-4330-90d3-48e02bec39e7"
      },
      "execution_count": null,
      "outputs": [
        {
          "output_type": "stream",
          "name": "stdout",
          "text": [
            "[58 26 89 54]\n",
            "=======\n",
            "[58 26 89 54]\n",
            "[40 37 25 32]\n",
            "----------- +\n",
            "[ 98  63 114  86]\n",
            "----------- -\n",
            "[ 18 -11  64  22]\n"
          ]
        },
        {
          "output_type": "execute_result",
          "data": {
            "text/plain": [
              "array([2., 3.])"
            ]
          },
          "metadata": {},
          "execution_count": 26
        }
      ]
    },
    {
      "cell_type": "code",
      "source": [
        "sq_arr = np.arange(6)**2\n",
        "sq_arr"
      ],
      "metadata": {
        "id": "LeXmWvV8ueQT"
      },
      "execution_count": null,
      "outputs": []
    },
    {
      "cell_type": "code",
      "source": [
        "cp_arr_1 = np.random.randint(10,size=(2,2))\n",
        "cp_arr_2 = cp_arr_1\n",
        "cp_arr_1[0,0] = 2\n",
        "print(cp_arr_1,\"\\n\")\n",
        "print(cp_arr_2,\"\\n\")\n"
      ],
      "metadata": {
        "id": "03BEJ_gQlkLD",
        "colab": {
          "base_uri": "https://localhost:8080/"
        },
        "outputId": "71945750-6907-44ab-e5b3-ae9a50f5bba0"
      },
      "execution_count": null,
      "outputs": [
        {
          "output_type": "stream",
          "name": "stdout",
          "text": [
            "[[2 5]\n",
            " [5 3]] \n",
            "\n",
            "[[2 5]\n",
            " [5 3]] \n",
            "\n"
          ]
        }
      ]
    },
    {
      "cell_type": "code",
      "source": [
        "arr_7 = np.random.randint(10,size=(10,2))\n",
        "print(arr_7)\n",
        "mc_index = arr_7.argmax(axis=0) #index for max value per column\n",
        "mc_index\n",
        "max_nums = arr_7[mc_index] #respond\n",
        "max_nums"
      ],
      "metadata": {
        "id": "rnT65W03ou99",
        "colab": {
          "base_uri": "https://localhost:8080/"
        },
        "outputId": "c974b8ec-3a1f-4446-870e-2e5902d8a19b"
      },
      "execution_count": 35,
      "outputs": [
        {
          "output_type": "stream",
          "name": "stdout",
          "text": [
            "[[5 7]\n",
            " [5 6]\n",
            " [3 2]\n",
            " [1 4]\n",
            " [9 0]\n",
            " [9 2]\n",
            " [7 9]\n",
            " [7 8]\n",
            " [7 1]\n",
            " [9 1]]\n"
          ]
        },
        {
          "output_type": "execute_result",
          "data": {
            "text/plain": [
              "array([[9, 0],\n",
              "       [7, 9]])"
            ]
          },
          "metadata": {},
          "execution_count": 35
        }
      ]
    },
    {
      "cell_type": "code",
      "source": [
        "import pandas as pd\n",
        "from numpy import genfromtxt"
      ],
      "metadata": {
        "id": "O4DCDhY3xn2h"
      },
      "execution_count": 31,
      "outputs": []
    },
    {
      "cell_type": "code",
      "source": [
        "ic_sales=pd.read_csv('icecreamsales.csv').to_numpy()\n",
        "\n",
        "ic_sales_2 = genfromtxt('icecreamsales.csv',delimiter = ',')\n",
        "ic_sales_2 = [row[~np.isnan(row) for row in ic_sales_2]]"
      ],
      "metadata": {
        "colab": {
          "base_uri": "https://localhost:8080/",
          "height": 106
        },
        "id": "RExtPs3Ay_7j",
        "outputId": "ddff48b1-9a2a-42e2-8339-9bc24fc92b44"
      },
      "execution_count": 36,
      "outputs": [
        {
          "output_type": "error",
          "ename": "SyntaxError",
          "evalue": "invalid syntax. Perhaps you forgot a comma? (<ipython-input-36-7d6e63a32dbc>, line 4)",
          "traceback": [
            "\u001b[0;36m  File \u001b[0;32m\"<ipython-input-36-7d6e63a32dbc>\"\u001b[0;36m, line \u001b[0;32m4\u001b[0m\n\u001b[0;31m    ic_sales_2 = [row[~np.isnan(row) for row in ic_sales_2]]\u001b[0m\n\u001b[0m                  ^\u001b[0m\n\u001b[0;31mSyntaxError\u001b[0m\u001b[0;31m:\u001b[0m invalid syntax. Perhaps you forgot a comma?\n"
          ]
        }
      ]
    },
    {
      "cell_type": "code",
      "source": [
        "sarr_1 = np.arange(1,6)\n",
        "#nanmedian, nanmean, nanstd, nanvar, IGNORE NAN???\n",
        "np.corrcoef(arr_7[:,0],arr_7[:,1])"
      ],
      "metadata": {
        "colab": {
          "base_uri": "https://localhost:8080/"
        },
        "id": "ToUdJ5dw0OuZ",
        "outputId": "76c4fbaa-720a-441c-a85e-8c0c26426317"
      },
      "execution_count": 38,
      "outputs": [
        {
          "output_type": "execute_result",
          "data": {
            "text/plain": [
              "array([[ 1.        , -0.25202432],\n",
              "       [-0.25202432,  1.        ]])"
            ]
          },
          "metadata": {},
          "execution_count": 38
        }
      ]
    },
    {
      "cell_type": "code",
      "source": [
        "temp_mean = np.mean(arr_7[:,0])\n",
        "sales_mean = np.mean(arr_7[:,1])\n",
        "numerator = np.sum(((arr_7[:,0] - temp_mean) * (arr_7[:,1] - sales_mean)))\n",
        "denominator = np.sum(np.square(arr_7[:,0] - temp_mean))\n",
        "\n",
        "slope = numerator/denominator #regression line\n",
        "y_i = sales_mean - slope *temp_mean #y intercept\n",
        "y_i\n",
        "reg_arr = arr_7[:,0]*slope + y_i #regression line\n",
        "reg_arr"
      ],
      "metadata": {
        "colab": {
          "base_uri": "https://localhost:8080/"
        },
        "id": "tr7Z9JSL0UYz",
        "outputId": "d227b711-f7bb-42a9-9167-745e6583068f"
      },
      "execution_count": 43,
      "outputs": [
        {
          "output_type": "execute_result",
          "data": {
            "text/plain": [
              "array([4.36585366, 4.36585366, 4.97560976, 5.58536585, 3.14634146,\n",
              "       3.14634146, 3.75609756, 3.75609756, 3.75609756, 3.14634146])"
            ]
          },
          "metadata": {},
          "execution_count": 43
        }
      ]
    },
    {
      "cell_type": "code",
      "source": [
        "t_arr = np.linspace(-np.pi, np.pi, 200)\n",
        "plt.plot(t_arr, np.sin(t_arr))"
      ],
      "metadata": {
        "colab": {
          "base_uri": "https://localhost:8080/",
          "height": 447
        },
        "id": "qlSErd2s2bEd",
        "outputId": "7b2bfd66-eae5-4db9-d9fd-3aea9e2a18b0"
      },
      "execution_count": 46,
      "outputs": [
        {
          "output_type": "execute_result",
          "data": {
            "text/plain": [
              "[<matplotlib.lines.Line2D at 0x7c23542626e0>]"
            ]
          },
          "metadata": {},
          "execution_count": 46
        },
        {
          "output_type": "display_data",
          "data": {
            "text/plain": [
              "<Figure size 640x480 with 1 Axes>"
            ],
            "image/png": "[encoded data removed]"
          },
          "metadata": {}
        }
      ]
    },
    {
      "cell_type": "code",
      "source": [
        "plt.plot(t_arr, np.cos(t_arr))"
      ],
      "metadata": {
        "colab": {
          "base_uri": "https://localhost:8080/",
          "height": 447
        },
        "id": "jjR9oVD25dbY",
        "outputId": "33bf2db9-c992-4c3f-8594-5ccb6dcccc63"
      },
      "execution_count": 47,
      "outputs": [
        {
          "output_type": "execute_result",
          "data": {
            "text/plain": [
              "[<matplotlib.lines.Line2D at 0x7c2353f7b490>]"
            ]
          },
          "metadata": {},
          "execution_count": 47
        },
        {
          "output_type": "display_data",
          "data": {
            "text/plain": [
              "<Figure size 640x480 with 1 Axes>"
            ],
            "image/png": "[encoded data removed]"
          },
          "metadata": {}
        }
      ]
    },
    {
      "cell_type": "code",
      "source": [
        "plt.plot(t_arr, np.tan(t_arr))"
      ],
      "metadata": {
        "colab": {
          "base_uri": "https://localhost:8080/",
          "height": 447
        },
        "id": "QD3qnNTb5rP8",
        "outputId": "10296071-87bd-44e2-b015-4fd4fe46c343"
      },
      "execution_count": 48,
      "outputs": [
        {
          "output_type": "execute_result",
          "data": {
            "text/plain": [
              "[<matplotlib.lines.Line2D at 0x7c2353ee1390>]"
            ]
          },
          "metadata": {},
          "execution_count": 48
        },
        {
          "output_type": "display_data",
          "data": {
            "text/plain": [
              "<Figure size 640x480 with 1 Axes>"
            ],
            "image/png": "[encoded data removed]"
          },
          "metadata": {}
        }
      ]
    },
    {
      "cell_type": "code",
      "source": [],
      "metadata": {
        "id": "ZnsyVSn55tjJ"
      },
      "execution_count": null,
      "outputs": []
    }
  ]
}